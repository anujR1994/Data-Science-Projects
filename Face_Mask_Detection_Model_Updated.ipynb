{
  "cells": [
    {
      "cell_type": "markdown",
      "metadata": {
        "id": "view-in-github",
        "colab_type": "text"
      },
      "source": [
        "<a href=\"https://colab.research.google.com/github/anujR1994/Data-Science-Projects/blob/main/Face_Mask_Detection_Model_Updated.ipynb\" target=\"_parent\"><img src=\"https://colab.research.google.com/assets/colab-badge.svg\" alt=\"Open In Colab\"/></a>"
      ]
    },
    {
      "cell_type": "markdown",
      "id": "deb2e13c",
      "metadata": {
        "id": "deb2e13c"
      },
      "source": [
        "# Face Mask Detection Model Using VGG16"
      ]
    },
    {
      "cell_type": "markdown",
      "id": "c396e106",
      "metadata": {
        "id": "c396e106"
      },
      "source": [
        "This notebook outlines the steps to build a face mask detection model using the VGG16 architecture, as specified in the 'Mask Identification - Case Study'."
      ]
    },
    {
      "cell_type": "code",
      "execution_count": 2,
      "id": "1bace5d1",
      "metadata": {
        "trusted": false,
        "colab": {
          "base_uri": "https://localhost:8080/"
        },
        "id": "1bace5d1",
        "outputId": "3062d9b5-90a9-4f86-c519-bb229f33f857"
      },
      "outputs": [
        {
          "output_type": "stream",
          "name": "stdout",
          "text": [
            "Mounted at /content/drive\n"
          ]
        }
      ],
      "source": [
        "from google.colab import drive\n",
        "drive.mount('/content/drive')"
      ]
    },
    {
      "cell_type": "markdown",
      "id": "0ccfebc5",
      "metadata": {
        "id": "0ccfebc5"
      },
      "source": [
        "## Setup Paths"
      ]
    },
    {
      "cell_type": "code",
      "execution_count": 3,
      "id": "ab6bfedc",
      "metadata": {
        "trusted": false,
        "id": "ab6bfedc"
      },
      "outputs": [],
      "source": [
        "train_dir = '/content/drive/MyDrive/GrayScale28X28MaskDataSet/train'\n",
        "test_dir = '/content/drive/MyDrive/GrayScale28X28MaskDataSet/test'"
      ]
    },
    {
      "cell_type": "code",
      "execution_count": 4,
      "id": "4a08cbf1",
      "metadata": {
        "trusted": false,
        "id": "4a08cbf1"
      },
      "outputs": [],
      "source": [
        "import numpy as np\n",
        "import tensorflow as tf\n",
        "from tensorflow.keras.models import Model\n",
        "from tensorflow.keras.layers import Dense, Flatten\n",
        "from tensorflow.keras.applications import VGG16\n",
        "from tensorflow.keras.preprocessing.image import ImageDataGenerator"
      ]
    },
    {
      "cell_type": "markdown",
      "id": "63e99a7d",
      "metadata": {
        "id": "63e99a7d"
      },
      "source": [
        "## Step 2: Data Preprocessing"
      ]
    },
    {
      "cell_type": "code",
      "execution_count": 5,
      "id": "3d58f81b",
      "metadata": {
        "trusted": false,
        "colab": {
          "base_uri": "https://localhost:8080/"
        },
        "id": "3d58f81b",
        "outputId": "7bf1e3de-bf3f-4cad-b862-7e897d507f28"
      },
      "outputs": [
        {
          "output_type": "stream",
          "name": "stdout",
          "text": [
            "Found 1325 images belonging to 2 classes.\n",
            "Found 194 images belonging to 2 classes.\n"
          ]
        }
      ],
      "source": [
        "train_datagen = ImageDataGenerator(\n",
        "    rescale=1./255,\n",
        "    rotation_range=40,\n",
        "    width_shift_range=0.2,\n",
        "    height_shift_range=0.2,\n",
        "    shear_range=0.2,\n",
        "    zoom_range=0.2,\n",
        "    horizontal_flip=True,\n",
        "    fill_mode='nearest'\n",
        ")\n",
        "\n",
        "test_datagen = ImageDataGenerator(rescale=1./255)\n",
        "\n",
        "train_generator = train_datagen.flow_from_directory(\n",
        "    train_dir,\n",
        "    target_size=(224, 224),\n",
        "    batch_size=20,\n",
        "    class_mode='binary'\n",
        ")\n",
        "\n",
        "test_generator = test_datagen.flow_from_directory(\n",
        "    test_dir,\n",
        "    target_size=(224, 224),\n",
        "    batch_size=20,\n",
        "    class_mode='binary'\n",
        ")"
      ]
    },
    {
      "cell_type": "markdown",
      "id": "af5c3dae",
      "metadata": {
        "id": "af5c3dae"
      },
      "source": [
        "## Step 3: Model Building"
      ]
    },
    {
      "cell_type": "code",
      "execution_count": 6,
      "id": "46c61142",
      "metadata": {
        "trusted": false,
        "colab": {
          "base_uri": "https://localhost:8080/"
        },
        "id": "46c61142",
        "outputId": "0a4b0c6e-51cb-46ff-9e91-0aa272d086b0"
      },
      "outputs": [
        {
          "output_type": "stream",
          "name": "stdout",
          "text": [
            "Downloading data from https://storage.googleapis.com/tensorflow/keras-applications/vgg16/vgg16_weights_tf_dim_ordering_tf_kernels_notop.h5\n",
            "58889256/58889256 [==============================] - 0s 0us/step\n"
          ]
        }
      ],
      "source": [
        "base_model = VGG16(input_shape=(224, 224, 3), include_top=False, weights='imagenet')\n",
        "base_model.trainable = False  # Freeze the convolutional base\n",
        "\n",
        "x = Flatten()(base_model.output)\n",
        "x = Dense(512, activation='relu')(x)\n",
        "x = Dense(1, activation='sigmoid')(x)  # Binary classification (mask / no mask)\n",
        "\n",
        "model = Model(base_model.input, x)"
      ]
    },
    {
      "cell_type": "markdown",
      "id": "f78a0662",
      "metadata": {
        "id": "f78a0662"
      },
      "source": [
        "## Step 4: Model Compilation"
      ]
    },
    {
      "cell_type": "code",
      "execution_count": 7,
      "id": "f8a5ecbf",
      "metadata": {
        "trusted": false,
        "id": "f8a5ecbf"
      },
      "outputs": [],
      "source": [
        "model.compile(optimizer='adam',\n",
        "              loss='binary_crossentropy',\n",
        "              metrics=['accuracy'])"
      ]
    },
    {
      "cell_type": "markdown",
      "id": "e108024d",
      "metadata": {
        "id": "e108024d"
      },
      "source": [
        "## Step 5: Model Training"
      ]
    },
    {
      "cell_type": "code",
      "execution_count": 9,
      "id": "a2373750",
      "metadata": {
        "trusted": false,
        "colab": {
          "base_uri": "https://localhost:8080/"
        },
        "id": "a2373750",
        "outputId": "16b85d10-6d19-4a82-d136-1e8606301b3c"
      },
      "outputs": [
        {
          "output_type": "stream",
          "name": "stdout",
          "text": [
            "Epoch 1/5\n",
            "30/30 [==============================] - ETA: 0s - loss: 0.0922 - accuracy: 0.9726"
          ]
        },
        {
          "output_type": "stream",
          "name": "stderr",
          "text": [
            "WARNING:tensorflow:Your input ran out of data; interrupting training. Make sure that your dataset or generator can generate at least `steps_per_epoch * epochs` batches (in this case, 50 batches). You may need to use the repeat() function when building your dataset.\n"
          ]
        },
        {
          "output_type": "stream",
          "name": "stdout",
          "text": [
            "\b\b\b\b\b\b\b\b\b\b\b\b\b\b\b\b\b\b\b\b\b\b\b\b\b\b\b\b\b\b\b\b\b\b\b\b\b\b\b\b\b\b\b\b\b\b\b\b\b\b\b\b\b\b\b\b\b\b\b\b\b\b\b\b\b\b\b\b\b\b\b\b\b\b\b\b\b\b\b\b\b\b\r30/30 [==============================] - 18s 606ms/step - loss: 0.0922 - accuracy: 0.9726 - val_loss: 0.0809 - val_accuracy: 0.9794\n",
            "Epoch 2/5\n",
            "30/30 [==============================] - 14s 453ms/step - loss: 0.0882 - accuracy: 0.9709\n",
            "Epoch 3/5\n",
            "30/30 [==============================] - 14s 466ms/step - loss: 0.0968 - accuracy: 0.9733\n",
            "Epoch 4/5\n",
            "30/30 [==============================] - 12s 405ms/step - loss: 0.1488 - accuracy: 0.9624\n",
            "Epoch 5/5\n",
            "30/30 [==============================] - 12s 376ms/step - loss: 0.2904 - accuracy: 0.9299\n"
          ]
        }
      ],
      "source": [
        "history = model.fit(\n",
        "    train_generator,\n",
        "    steps_per_epoch=30,  # depends on your data\n",
        "    epochs=5,\n",
        "    validation_data=test_generator,\n",
        "    validation_steps=50  # depends on your test data\n",
        ")"
      ]
    },
    {
      "cell_type": "markdown",
      "id": "f57b2747",
      "metadata": {
        "id": "f57b2747"
      },
      "source": [
        "## Step 6: Evaluation"
      ]
    },
    {
      "cell_type": "code",
      "execution_count": 10,
      "id": "49559013",
      "metadata": {
        "trusted": false,
        "colab": {
          "base_uri": "https://localhost:8080/"
        },
        "id": "49559013",
        "outputId": "33de7b31-b21c-4034-9715-7801b2db9ff4"
      },
      "outputs": [
        {
          "output_type": "stream",
          "name": "stdout",
          "text": [
            "10/50 [=====>........................] - ETA: 3s - loss: 0.0531 - accuracy: 0.9897"
          ]
        },
        {
          "output_type": "stream",
          "name": "stderr",
          "text": [
            "WARNING:tensorflow:Your input ran out of data; interrupting training. Make sure that your dataset or generator can generate at least `steps_per_epoch * epochs` batches (in this case, 50 batches). You may need to use the repeat() function when building your dataset.\n"
          ]
        },
        {
          "output_type": "stream",
          "name": "stdout",
          "text": [
            "\b\b\b\b\b\b\b\b\b\b\b\b\b\b\b\b\b\b\b\b\b\b\b\b\b\b\b\b\b\b\b\b\b\b\b\b\b\b\b\b\b\b\b\b\b\b\b\b\b\b\b\b\b\b\b\b\b\b\b\b\b\b\b\b\b\b\b\b\b\b\b\b\b\b\b\b\b\b\b\b\b\b\r50/50 [==============================] - 1s 18ms/step - loss: 0.0531 - accuracy: 0.9897\n",
            "Test accuracy: 0.9896907210350037\n"
          ]
        }
      ],
      "source": [
        "test_loss, test_acc = model.evaluate(test_generator, steps=50)\n",
        "print('Test accuracy:', test_acc)"
      ]
    },
    {
      "cell_type": "code",
      "source": [],
      "metadata": {
        "id": "mdOir8ca2stf"
      },
      "id": "mdOir8ca2stf",
      "execution_count": null,
      "outputs": []
    }
  ],
  "metadata": {
    "colab": {
      "provenance": [],
      "gpuType": "T4",
      "include_colab_link": true
    },
    "language_info": {
      "name": "python"
    },
    "kernelspec": {
      "name": "python3",
      "display_name": "Python 3"
    },
    "accelerator": "GPU"
  },
  "nbformat": 4,
  "nbformat_minor": 5
}